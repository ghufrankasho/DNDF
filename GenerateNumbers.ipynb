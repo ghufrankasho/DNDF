{
 "cells": [
  {
   "cell_type": "code",
   "execution_count": 1,
   "id": "1e15a836",
   "metadata": {},
   "outputs": [],
   "source": [
    "import pandas as pd\n",
    "import numpy as np\n",
    "import csv\n",
    "import math\n",
    "\n"
   ]
  },
  {
   "cell_type": "code",
   "execution_count": 2,
   "id": "2436180f",
   "metadata": {
    "scrolled": false
   },
   "outputs": [
    {
     "name": "stdout",
     "output_type": "stream",
     "text": [
      "  variable          Mean        Median          Mode       Minimum  \\\n",
      "0    NOPAT  1.735908e+10  1.955884e+09  1.400000e+11 -5.274377e+09   \n",
      "1     WACC  1.900000e-02  1.200000e-02 -2.700000e-02 -2.700000e-02   \n",
      "2       IC  1.688019e+11  1.115000e+11  1.777138e+10  1.777138e+10   \n",
      "\n",
      "        Maximum    Data Range  Standard Deviation  \n",
      "0  1.400000e+11  1.452744e+11        3.051889e+10  \n",
      "1  1.500000e-01  1.780000e-01        2.800000e-02  \n",
      "2  7.300000e+11  7.122286e+11        1.558440e+11  \n"
     ]
    }
   ],
   "source": [
    "df=pd.read_csv('statistics_of_EVA.csv')\n",
    "print(df)\n",
    "\n"
   ]
  },
  {
   "cell_type": "code",
   "execution_count": 6,
   "id": "f9eee4e3",
   "metadata": {},
   "outputs": [
    {
     "name": "stdout",
     "output_type": "stream",
     "text": [
      "[17359078352.58, 30518887363.244, 140000000000.0, -5274377347.0]\n",
      "[0.019, 0.028, 0.15, -0.027]\n",
      "[168801861838.727, 155844035084.662, 730000000000.0, 17771382489.0]\n"
     ]
    }
   ],
   "source": [
    "data_of_variables = []\n",
    "for index, row in df.iterrows():\n",
    "    valu = [row['Mean'], row['Standard Deviation'], row['Maximum'], row['Minimum']]\n",
    "    data_of_variables.append(valu)\n",
    "    print(valu)\n",
    " "
   ]
  },
  {
   "cell_type": "code",
   "execution_count": 7,
   "id": "63ebe540",
   "metadata": {},
   "outputs": [
    {
     "data": {
      "text/plain": [
       "[[17359078352.58, 30518887363.244, 140000000000.0, -5274377347.0],\n",
       " [0.019, 0.028, 0.15, -0.027],\n",
       " [168801861838.727, 155844035084.662, 730000000000.0, 17771382489.0]]"
      ]
     },
     "execution_count": 7,
     "metadata": {},
     "output_type": "execute_result"
    }
   ],
   "source": [
    "data_of_variables"
   ]
  },
  {
   "cell_type": "code",
   "execution_count": 4,
   "id": "67b6e8c3",
   "metadata": {},
   "outputs": [],
   "source": [
    "def generate_column(index):\n",
    "    while True:\n",
    "        new_array = np.random.uniform(-0.027,0.077, size=(1, 50000))\n",
    "        print(new_array[0].mean(),new_array[0].std())\n",
    "        \n",
    "        #new generated data\n",
    "        S1=new_array[0].std()\n",
    "        mean1=new_array[0].mean()\n",
    "  \n",
    "        S2=data_of_variables[index][1]\n",
    "        mean2=data_of_variables[index][0]\n",
    "        \n",
    "        X=mean2-mean1\n",
    "        y=pow(S1,2)/50000 +pow(S2,2) /88\n",
    "        z=X/math. sqrt(y)\n",
    "        print(\"Z value =\",z, \"mean =\",abs(mean1-mean2))\n",
    "        if  abs(mean1-mean2)<0.0058 and abs(z)<=1.96:\n",
    "            print(\"mean =\",new_array[0].mean(),mean2)\n",
    "            return new_array[0]"
   ]
  },
  {
   "cell_type": "code",
   "execution_count": 5,
   "id": "78573b5a",
   "metadata": {
    "scrolled": false
   },
   "outputs": [
    {
     "name": "stdout",
     "output_type": "stream",
     "text": [
      "0.02518256660434645 0.030135237151867635\n",
      "[ 0.05164376  0.03935563 -0.01720881 ...  0.06610873  0.02126755\n",
      "  0.04068804] [[ 0.05164376  0.03935563 -0.01720881 ...  0.06610873  0.02126755\n",
      "   0.04068804]]\n"
     ]
    }
   ],
   "source": [
    " dataset=generate_column(1)"
   ]
  },
  {
   "cell_type": "markdown",
   "id": "24c1c0bc",
   "metadata": {},
   "source": [
    "# calculate Z test"
   ]
  },
  {
   "cell_type": "code",
   "execution_count": 180,
   "id": "3aba967d",
   "metadata": {},
   "outputs": [],
   "source": [
    "#\n",
    "\n",
    "# Iterate over each column\n",
    "with open('wacc.csv', 'w', newline='') as file:\n",
    "    writer = csv.writer(file)\n",
    "    field = [\"wacc\"]\n",
    "    writer.writerow(field)\n",
    "    for data in dataset:\n",
    "        \n",
    "            writer.writerow([data])"
   ]
  },
  {
   "cell_type": "code",
   "execution_count": null,
   "id": "144aeda7",
   "metadata": {},
   "outputs": [],
   "source": []
  }
 ],
 "metadata": {
  "kernelspec": {
   "display_name": "Python 3 (ipykernel)",
   "language": "python",
   "name": "python3"
  },
  "language_info": {
   "codemirror_mode": {
    "name": "ipython",
    "version": 3
   },
   "file_extension": ".py",
   "mimetype": "text/x-python",
   "name": "python",
   "nbconvert_exporter": "python",
   "pygments_lexer": "ipython3",
   "version": "3.11.4"
  }
 },
 "nbformat": 4,
 "nbformat_minor": 5
}
